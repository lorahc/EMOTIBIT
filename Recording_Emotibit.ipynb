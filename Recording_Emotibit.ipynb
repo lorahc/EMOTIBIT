{
 "cells": [
  {
   "cell_type": "code",
   "execution_count": 14,
   "id": "16f27537-856c-46d8-af55-8b5433b6e435",
   "metadata": {},
   "outputs": [],
   "source": [
    "#Path to save data\n",
    "path='/Users/laura/Documents/EMOTIBIT/Emotibit_data-script'\n",
    "\n",
    "Name='Laura'\n",
    "Date='31-03-2025'"
   ]
  },
  {
   "cell_type": "code",
   "execution_count": null,
   "id": "47a069ba-a021-492a-9b24-32e4d331b971",
   "metadata": {},
   "outputs": [],
   "source": []
  },
  {
   "cell_type": "code",
   "execution_count": 18,
   "id": "dc4a518b-02be-4bdf-b8cb-6c686fa106e6",
   "metadata": {},
   "outputs": [
    {
     "name": "stdout",
     "output_type": "stream",
     "text": [
      "[2, 1, 0]\n"
     ]
    },
    {
     "name": "stderr",
     "output_type": "stream",
     "text": [
      "[2025-03-31 14:24:29.324] [board_logger] [info] incoming json: {\n",
      "    \"file\": \"\",\n",
      "    \"file_anc\": \"\",\n",
      "    \"file_aux\": \"\",\n",
      "    \"ip_address\": \"\",\n",
      "    \"ip_address_anc\": \"\",\n",
      "    \"ip_address_aux\": \"\",\n",
      "    \"ip_port\": 0,\n",
      "    \"ip_port_anc\": 0,\n",
      "    \"ip_port_aux\": 0,\n",
      "    \"ip_protocol\": 0,\n",
      "    \"mac_address\": \"\",\n",
      "    \"master_board\": -100,\n",
      "    \"other_info\": \"\",\n",
      "    \"serial_number\": \"\",\n",
      "    \"serial_port\": \"\",\n",
      "    \"timeout\": 0\n",
      "}\n",
      "[2025-03-31 14:24:29.324] [board_logger] [trace] Board object created 47\n",
      "[2025-03-31 14:24:29.325] [board_logger] [warning] no ip_address provided, trying to discover network, it may take longer\n",
      "[2025-03-31 14:24:29.325] [board_logger] [info] trying broadcast address: 127.255.255.255\n",
      "[2025-03-31 14:24:29.325] [board_logger] [info] sending package: 0,0,0,HE,1,100\n",
      "\n",
      "[2025-03-31 14:24:34.326] [board_logger] [error] no emotibit found\n",
      "[2025-03-31 14:24:34.326] [board_logger] [info] trying broadcast address: 192.168.41.255\n",
      "[2025-03-31 14:24:34.326] [board_logger] [info] sending package: 0,0,0,HE,1,100\n",
      "\n",
      "[2025-03-31 14:24:34.558] [board_logger] [trace] package is 2725692,855,0,HH,1,100,DP,-1,DI,MD-V5-0000369\n",
      "[2025-03-31 14:24:34.558] [board_logger] [info] received HH package\n",
      "[2025-03-31 14:24:34.558] [board_logger] [info] Found emotibit: MD-V5-0000369\n",
      "[2025-03-31 14:24:35.563] [board_logger] [debug] adv_connection established, ip: 192.168.41.131, port: 3131\n",
      "[2025-03-31 14:24:35.563] [board_logger] [info] use port 3133 for data\n",
      "[2025-03-31 14:24:35.563] [board_logger] [info] local ip addr is 192.168.41.63\n",
      "[2025-03-31 14:24:35.564] [board_logger] [info] use port 3132 for control\n",
      "[2025-03-31 14:24:35.564] [board_logger] [info] sending connect package: 0,0,4,EC,1,100,CP,3132,DP,3133\n",
      "\n",
      "[2025-03-31 14:24:35.564] [board_logger] [trace] waiting for accept 0/20\n",
      "[2025-03-31 14:24:35.864] [board_logger] [trace] waiting for accept 1/20\n",
      "[2025-03-31 14:24:36.169] [board_logger] [trace] waiting for accept 2/20\n",
      "[2025-03-31 14:24:36.470] [board_logger] [trace] waiting for accept 3/20\n",
      "[2025-03-31 14:24:36.470] [board_logger] [trace] emotibit connected\n",
      "[2025-03-31 14:24:36.471] [board_logger] [info] Message: ML sent\n",
      "[2025-03-31 14:24:36.471] [board_logger] [info] Message: MN sent\n",
      "[2025-03-31 14:25:36.477] [board_logger] [info] Message: ML sent\n",
      "[2025-03-31 14:25:36.725] [board_logger] [info] Message: ED sent\n"
     ]
    }
   ],
   "source": [
    "import time\n",
    "\n",
    "from brainflow.board_shim import BoardShim, BrainFlowInputParams, BoardIds, BrainFlowPresets\n",
    "from brainflow.data_filter import DataFilter\n",
    "\n",
    "\n",
    "def main():\n",
    "    BoardShim.enable_dev_board_logger()\n",
    "\n",
    "    params = BrainFlowInputParams()\n",
    "    board_id = BoardIds.EMOTIBIT_BOARD.value\n",
    "\n",
    "    presets = BoardShim.get_board_presets(board_id)\n",
    "    print (presets)\n",
    "    \n",
    "    board = BoardShim(board_id, params)\n",
    "    board.prepare_session()\n",
    "    board.start_stream()\n",
    "    time.sleep(60) # defining the \n",
    "    data_default = board.get_board_data(preset=BrainFlowPresets.DEFAULT_PRESET)\n",
    "    data_aux = board.get_board_data(preset=BrainFlowPresets.AUXILIARY_PRESET)\n",
    "    data_anc = board.get_board_data(preset=BrainFlowPresets.ANCILLARY_PRESET)\n",
    "    board.stop_stream()\n",
    "    board.release_session()\n",
    "    DataFilter.write_file(data_default, f'{path}_default.csv', 'w') # acceloremeter, gyroscope, magnetometer\n",
    "    DataFilter.write_file(data_aux, f'{path}_ppg.csv', 'w') #PPg data\n",
    "    DataFilter.write_file(data_anc, f'{path}_eda.csv', 'w') # EDA and Temperature\n",
    "#filename=f'{path}/{Name}/{Date}/S{usernumber}R{session_number}_raw.csv'\n",
    "\n",
    "if __name__ == \"__main__\":\n",
    "    main()\n"
   ]
  }
 ],
 "metadata": {
  "kernelspec": {
   "display_name": "Python [conda env:EmotiBit-pyenv]",
   "language": "python",
   "name": "conda-env-EmotiBit-pyenv-py"
  },
  "language_info": {
   "codemirror_mode": {
    "name": "ipython",
    "version": 3
   },
   "file_extension": ".py",
   "mimetype": "text/x-python",
   "name": "python",
   "nbconvert_exporter": "python",
   "pygments_lexer": "ipython3",
   "version": "3.12.9"
  }
 },
 "nbformat": 4,
 "nbformat_minor": 5
}
